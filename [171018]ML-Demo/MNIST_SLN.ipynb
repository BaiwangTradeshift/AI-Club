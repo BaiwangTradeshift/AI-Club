{
 "cells": [
  {
   "cell_type": "code",
   "execution_count": 34,
   "metadata": {},
   "outputs": [
    {
     "name": "stdout",
     "output_type": "stream",
     "text": [
      "Extracting ../data/mnist/train-images-idx3-ubyte.gz\n",
      "Extracting ../data/mnist/train-labels-idx1-ubyte.gz\n",
      "Extracting ../data/mnist/t10k-images-idx3-ubyte.gz\n",
      "Extracting ../data/mnist/t10k-labels-idx1-ubyte.gz\n"
     ]
    }
   ],
   "source": [
    "from tensorflow.examples.tutorials.mnist import input_data\n",
    "mnist = input_data.read_data_sets(\"../data/mnist\", one_hot=True, reshape=False)\n",
    "import tensorflow as tf"
   ]
  },
  {
   "cell_type": "code",
   "execution_count": 35,
   "metadata": {
    "scrolled": true
   },
   "outputs": [
    {
     "data": {
      "image/png": "[encoded data removed]",
      "text/plain": [
       "<matplotlib.figure.Figure at 0x12f625f60>"
      ]
     },
     "metadata": {},
     "output_type": "display_data"
    }
   ],
   "source": [
    "# Visualizing the data\n",
    "import matplotlib.pyplot as plt\n",
    "%matplotlib inline\n",
    "\n",
    "# Function for displaying a training image by it's index in the MNIST set\n",
    "def display_digit(index):\n",
    "    label = mnist.test.labels[index].argmax(axis=0)\n",
    "    \n",
    "    #label = trainY[index].argmax(axis=0)\n",
    "    # Reshape 784 array into 28x28 image\n",
    "    image = mnist.test.images[index,].reshape([28,28])\n",
    "    #image = trainX[index].reshape([28,28])\n",
    "    plt.title('Training data, index: %d,  Label: %d' % (index, label))\n",
    "    plt.imshow(image, cmap='gray_r')\n",
    "    plt.show()\n",
    "    \n",
    "# Display the first (index 0) training image\n",
    "display_digit(0)"
   ]
  },
  {
   "cell_type": "markdown",
   "metadata": {},
   "source": [
    "Start Tensorflow"
   ]
  },
  {
   "cell_type": "code",
   "execution_count": 61,
   "metadata": {
    "collapsed": true
   },
   "outputs": [],
   "source": [
    "#tensorflow must be reset\n",
    "tf.reset_default_graph()\n",
    "\n",
    "# Parameters\n",
    "learning_rate = 0.001\n",
    "training_epochs = 50\n",
    "batch_size = 128  # Decrease batch size if you don't have enough memory\n",
    "display_step = 1\n",
    "\n",
    "n_input = 784  # MNIST data input (img shape: 28*28)\n",
    "n_classes = 10  # MNIST total classes (0-9 digits)\n",
    "\n",
    "n_hidden_layer = 256  # layer number of features\n",
    "\n",
    "#define weights and biases\n",
    "weights = {\n",
    "    'hidden_layer': tf.Variable(tf.random_normal([n_input, n_hidden_layer]), name='weight.hl'),\n",
    "    'out': tf.Variable(tf.random_normal([n_hidden_layer, n_classes]), name='weight.out')\n",
    "}\n",
    "biases = {\n",
    "    'hidden_layer': tf.Variable(tf.random_normal([n_hidden_layer]), name='bias.hl'),\n",
    "    'out': tf.Variable(tf.random_normal([n_classes]), name='bias.out')\n",
    "}\n",
    "\n",
    "# define graph\n",
    "# tf Graph input\n",
    "x = tf.placeholder(\"float\", [None, 28, 28, 1])\n",
    "y = tf.placeholder(\"float\", [None, n_classes])\n",
    "\n",
    "x_flat = tf.reshape(x, [-1, n_input])\n",
    "\n",
    "# Hidden layer with RELU activation\n",
    "keep_prob = tf.placeholder(tf.float32)\n",
    "layer_1 = tf.add(tf.matmul(x_flat, weights['hidden_layer']), biases['hidden_layer'])\n",
    "layer_1 = tf.nn.relu(layer_1)\n",
    "layer_1 = tf.nn.dropout(layer_1, keep_prob)\n",
    "# Output layer with linear activation\n",
    "logits = tf.matmul(layer_1, weights['out']) + biases['out']\n",
    "\n",
    "# Define loss and optimizer\n",
    "cost = tf.reduce_mean(tf.nn.softmax_cross_entropy_with_logits(logits=logits, labels=y))\n",
    "optimizer = tf.train.GradientDescentOptimizer(learning_rate=learning_rate).minimize(cost)\n",
    "\n",
    "# Initializing the variables\n",
    "init = tf.global_variables_initializer()\n",
    "\n",
    "saver = tf.train.Saver()"
   ]
  },
  {
   "cell_type": "code",
   "execution_count": 62,
   "metadata": {},
   "outputs": [
    {
     "name": "stdout",
     "output_type": "stream",
     "text": [
      "Epoch: 0001 cost= 116.198242188\n",
      "Epoch: 0002 cost= 63.787830353\n",
      "Epoch: 0003 cost= 49.969814301\n",
      "Epoch: 0004 cost= 38.759811401\n",
      "Epoch: 0005 cost= 31.314882278\n",
      "Epoch: 0006 cost= 30.711477280\n",
      "Epoch: 0007 cost= 29.910177231\n",
      "Epoch: 0008 cost= 27.658689499\n",
      "Epoch: 0009 cost= 28.313882828\n",
      "Epoch: 0010 cost= 27.687152863\n",
      "Epoch: 0011 cost= 25.128646851\n",
      "Epoch: 0012 cost= 24.890983582\n",
      "Epoch: 0013 cost= 18.939476013\n",
      "Epoch: 0014 cost= 15.683568001\n",
      "Epoch: 0015 cost= 19.139259338\n",
      "Epoch: 0016 cost= 20.775485992\n",
      "Epoch: 0017 cost= 15.409475327\n",
      "Epoch: 0018 cost= 10.785008430\n",
      "Epoch: 0019 cost= 14.184622765\n",
      "Epoch: 0020 cost= 12.580482483\n",
      "Epoch: 0021 cost= 11.527072906\n",
      "Epoch: 0022 cost= 12.692238808\n",
      "Epoch: 0023 cost= 9.052055359\n",
      "Epoch: 0024 cost= 13.510210037\n",
      "Epoch: 0025 cost= 7.949016571\n",
      "Epoch: 0026 cost= 9.565286636\n",
      "Epoch: 0027 cost= 6.754254341\n",
      "Epoch: 0028 cost= 7.678421974\n",
      "Epoch: 0029 cost= 10.400318146\n",
      "Epoch: 0030 cost= 8.327060699\n",
      "Epoch: 0031 cost= 8.366477966\n",
      "Epoch: 0032 cost= 8.819552422\n",
      "Epoch: 0033 cost= 4.377087593\n",
      "Epoch: 0034 cost= 8.104787827\n",
      "Epoch: 0035 cost= 9.035634995\n",
      "Epoch: 0036 cost= 7.250671387\n",
      "Epoch: 0037 cost= 8.264692307\n",
      "Epoch: 0038 cost= 3.640290260\n",
      "Epoch: 0039 cost= 9.722492218\n",
      "Epoch: 0040 cost= 5.871277332\n",
      "Epoch: 0041 cost= 4.766876221\n",
      "Epoch: 0042 cost= 7.353564262\n",
      "Epoch: 0043 cost= 5.728292942\n",
      "Epoch: 0044 cost= 8.206334114\n",
      "Epoch: 0045 cost= 4.709209919\n",
      "Epoch: 0046 cost= 6.103796005\n",
      "Epoch: 0047 cost= 7.673266888\n",
      "Epoch: 0048 cost= 4.922278881\n",
      "Epoch: 0049 cost= 6.741709709\n",
      "Epoch: 0050 cost= 6.121174335\n",
      "Optimization Finished!\n"
     ]
    }
   ],
   "source": [
    "with tf.Session() as sess:\n",
    "    sess.run(init)\n",
    "    # Training cycle\n",
    "    for epoch in range(training_epochs):\n",
    "        total_batch = int(mnist.train.num_examples / batch_size)\n",
    "        # Loop over all batches\n",
    "        for i in range(total_batch):\n",
    "            batch_x, batch_y = mnist.train.next_batch(batch_size)\n",
    "            # Run optimization op (backprop) and cost op (to get loss value)\n",
    "            sess.run(optimizer, feed_dict={x: batch_x, y: batch_y, keep_prob: 0.5})\n",
    "        # Display logs per epoch step\n",
    "        if epoch % display_step == 0:\n",
    "            c = sess.run(cost, feed_dict={x: batch_x, y: batch_y, keep_prob: 0.5})\n",
    "            print(\"Epoch:\", '%04d' % (epoch + 1), \"cost=\", \\\n",
    "                  \"{:.9f}\".format(c))\n",
    "    print(\"Optimization Finished!\")\n",
    "    \n",
    "    saver.save(sess, './mnist_2_l.ckpt')"
   ]
  },
  {
   "cell_type": "markdown",
   "metadata": {},
   "source": [
    "Load the saved model and try to recognize hand write digit"
   ]
  },
  {
   "cell_type": "code",
   "execution_count": 64,
   "metadata": {
    "scrolled": true
   },
   "outputs": [
    {
     "name": "stdout",
     "output_type": "stream",
     "text": [
      "INFO:tensorflow:Restoring parameters from ./mnist_2_l.ckpt\n",
      "Test Accuracy: 0.8774999976158142\n"
     ]
    }
   ],
   "source": [
    "save_file = './mnist_2_l.ckpt'\n",
    "\n",
    "#tensorflow must be reset\n",
    "tf.reset_default_graph()\n",
    "\n",
    "n_input = 784  # MNIST data input (img shape: 28*28)\n",
    "n_classes = 10  # MNIST total classes (0-9 digits)\n",
    "n_hidden_layer = 256 # layer number of features\n",
    "\n",
    "weights = {\n",
    "    'hidden_layer': tf.Variable(tf.random_normal([n_input, n_hidden_layer]), name='weight.hl'),\n",
    "    'out': tf.Variable(tf.random_normal([n_hidden_layer, n_classes]), name='weight.out')\n",
    "}\n",
    "biases = {\n",
    "    'hidden_layer': tf.Variable(tf.random_normal([n_hidden_layer]), name='bias.hl'),\n",
    "    'out': tf.Variable(tf.random_normal([n_classes]), name='bias.out')\n",
    "}\n",
    "\n",
    "saver = tf.train.Saver()\n",
    "\n",
    "features = tf.placeholder(tf.float32, [None, n_input])\n",
    "labels = tf.placeholder(tf.float32, [None, n_classes])\n",
    "\n",
    "x = tf.placeholder(\"float\", [None, 28, 28, 1])\n",
    "y = tf.placeholder(\"float\", [None, n_classes])\n",
    "\n",
    "x_flat = tf.reshape(x, [-1, n_input])\n",
    "\n",
    "keep_prob = tf.placeholder(tf.float32)\n",
    "layer_1 = tf.add(tf.matmul(x_flat, weights['hidden_layer']), biases['hidden_layer'])\n",
    "layer_1 = tf.nn.relu(layer_1)\n",
    "layer_1 = tf.nn.dropout(layer_1, keep_prob)\n",
    "logits = tf.matmul(layer_1, weights['out']) + biases['out']\n",
    "\n",
    "# Test model\n",
    "correct_prediction = tf.equal(tf.argmax(logits, 1), tf.argmax(y, 1))\n",
    "# Calculate accuracy\n",
    "accuracy = tf.reduce_mean(tf.cast(correct_prediction, \"float\"))\n",
    "\n",
    "# Launch the graph\n",
    "with tf.Session() as sess:\n",
    "    saver.restore(sess, save_file)\n",
    "\n",
    "    test_accuracy = sess.run(accuracy,\n",
    "        feed_dict={x: mnist.test.images, y: mnist.test.labels, keep_prob:1.0})\n",
    "\n",
    "print('Test Accuracy: {}'.format(test_accuracy))"
   ]
  },
  {
   "cell_type": "markdown",
   "metadata": {
    "collapsed": true
   },
   "source": [
    "Last we test it with our written digits"
   ]
  },
  {
   "cell_type": "code",
   "execution_count": 48,
   "metadata": {
    "collapsed": true
   },
   "outputs": [],
   "source": [
    "def predict_image(image):\n",
    "    save_file = './mnist_2_l.ckpt'\n",
    "\n",
    "    #tensorflow must be reset\n",
    "    tf.reset_default_graph()\n",
    "\n",
    "    n_input = 784  # MNIST data input (img shape: 28*28)\n",
    "    n_classes = 10  # MNIST total classes (0-9 digits)\n",
    "    n_hidden_layer = 256 # layer number of features\n",
    "\n",
    "    weights = {\n",
    "        'hidden_layer': tf.Variable(tf.random_normal([n_input, n_hidden_layer]), name='weight.hl'),\n",
    "        'out': tf.Variable(tf.random_normal([n_hidden_layer, n_classes]), name='weight.out')\n",
    "    }\n",
    "    biases = {\n",
    "        'hidden_layer': tf.Variable(tf.random_normal([n_hidden_layer]), name='bias.hl'),\n",
    "        'out': tf.Variable(tf.random_normal([n_classes]), name='bias.out')\n",
    "    }\n",
    "\n",
    "    saver = tf.train.Saver()\n",
    "\n",
    "    features = tf.placeholder(tf.float32, [None, n_input])\n",
    "    labels = tf.placeholder(tf.float32, [None, n_classes])\n",
    "\n",
    "    x = tf.placeholder(\"float\", [28, 28, 1])\n",
    "\n",
    "    x_flat = tf.reshape(x, [-1, n_input])\n",
    "\n",
    "    keep_prob = tf.placeholder(tf.float32)\n",
    "    layer_1 = tf.add(tf.matmul(x_flat, weights['hidden_layer']), biases['hidden_layer'])\n",
    "    layer_1 = tf.nn.relu(layer_1)\n",
    "    layer_1 = tf.nn.dropout(layer_1, keep_prob)\n",
    "    logits = tf.matmul(layer_1, weights['out']) + biases['out']\n",
    "\n",
    "    prediction = tf.argmax(logits, 1)\n",
    "\n",
    "    # Launch the graph\n",
    "    with tf.Session() as sess:\n",
    "        saver.restore(sess, save_file)\n",
    "\n",
    "        digit = sess.run(prediction,\n",
    "            feed_dict={x: image, keep_prob:1.0})\n",
    "        return digit"
   ]
  },
  {
   "cell_type": "code",
   "execution_count": 49,
   "metadata": {},
   "outputs": [],
   "source": [
    "from skimage import io, util\n",
    "img = io.imread('2.jpg', as_grey=True)\n",
    "img = util.invert(img)"
   ]
  },
  {
   "cell_type": "code",
   "execution_count": 50,
   "metadata": {},
   "outputs": [
    {
     "data": {
      "image/png": "[encoded data removed]",
      "text/plain": [
       "<matplotlib.figure.Figure at 0x13aa76438>"
      ]
     },
     "metadata": {},
     "output_type": "display_data"
    }
   ],
   "source": [
    "img.shape\n",
    "plt.imshow(img, cmap='gray_r')\n",
    "plt.show()"
   ]
  },
  {
   "cell_type": "code",
   "execution_count": 46,
   "metadata": {
    "scrolled": true
   },
   "outputs": [
    {
     "name": "stdout",
     "output_type": "stream",
     "text": [
      "INFO:tensorflow:Restoring parameters from ./mnist_2_l.ckpt\n",
      "2\n"
     ]
    }
   ],
   "source": [
    "print(predict_image(img.reshape([28,28,1]))[0])"
   ]
  },
  {
   "cell_type": "code",
   "execution_count": null,
   "metadata": {
    "collapsed": true
   },
   "outputs": [],
   "source": []
  }
 ],
 "metadata": {
  "kernelspec": {
   "display_name": "Python [conda env:aiclub]",
   "language": "python",
   "name": "conda-env-aiclub-py"
  },
  "language_info": {
   "codemirror_mode": {
    "name": "ipython",
    "version": 3
   },
   "file_extension": ".py",
   "mimetype": "text/x-python",
   "name": "python",
   "nbconvert_exporter": "python",
   "pygments_lexer": "ipython3",
   "version": "3.6.2"
  }
 },
 "nbformat": 4,
 "nbformat_minor": 2
}
