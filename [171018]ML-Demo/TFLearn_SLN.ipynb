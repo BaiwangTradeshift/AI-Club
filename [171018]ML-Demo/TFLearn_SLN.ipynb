{
 "cells": [
  {
   "cell_type": "code",
   "execution_count": 1,
   "metadata": {},
   "outputs": [
    {
     "name": "stdout",
     "output_type": "stream",
     "text": [
      "hdf5 is not supported on this machine (please install/reinstall h5py for optimal experience)\n"
     ]
    }
   ],
   "source": [
    "import numpy as np\n",
    "import tensorflow as tf\n",
    "import tflearn\n",
    "import tflearn.datasets.mnist as mnist"
   ]
  },
  {
   "cell_type": "code",
   "execution_count": 8,
   "metadata": {
    "scrolled": true
   },
   "outputs": [
    {
     "name": "stdout",
     "output_type": "stream",
     "text": [
      "Extracting ../data/mnist/train-images-idx3-ubyte.gz\n",
      "Extracting ../data/mnist/train-labels-idx1-ubyte.gz\n",
      "Extracting ../data/mnist/t10k-images-idx3-ubyte.gz\n",
      "Extracting ../data/mnist/t10k-labels-idx1-ubyte.gz\n"
     ]
    }
   ],
   "source": [
    "trainX, trainY, testX, testY = mnist.load_data(\"../data/mnist\",one_hot=True)"
   ]
  },
  {
   "cell_type": "code",
   "execution_count": 5,
   "metadata": {},
   "outputs": [
    {
     "data": {
      "image/png": "[encoded data removed]",
      "text/plain": [
       "<matplotlib.figure.Figure at 0x11c0b2c50>"
      ]
     },
     "metadata": {},
     "output_type": "display_data"
    }
   ],
   "source": [
    "# Visualizing the data\n",
    "import matplotlib.pyplot as plt\n",
    "%matplotlib inline\n",
    "\n",
    "# Function for displaying a training image by it's index in the MNIST set\n",
    "def display_digit(index):\n",
    "    label = testY[index].argmax(axis=0)\n",
    "    \n",
    "    #label = trainY[index].argmax(axis=0)\n",
    "    # Reshape 784 array into 28x28 image\n",
    "    image = testX[index,].reshape([28,28])\n",
    "    #image = trainX[index].reshape([28,28])\n",
    "    plt.title('Training data, index: %d,  Label: %d' % (index, label))\n",
    "    plt.imshow(image, cmap='gray_r')\n",
    "    plt.show()\n",
    "    \n",
    "# Display the first (index 0) training image\n",
    "display_digit(0)"
   ]
  },
  {
   "cell_type": "code",
   "execution_count": 11,
   "metadata": {},
   "outputs": [
    {
     "name": "stdout",
     "output_type": "stream",
     "text": [
      "Training Step: 19349  | total loss: \u001b[1m\u001b[32m0.46744\u001b[0m\u001b[0m | time: 2.207s\n",
      "| SGD | epoch: 050 | loss: 0.46744 - acc: 0.8704 -- iter: 49408/49500\n",
      "Training Step: 19350  | total loss: \u001b[1m\u001b[32m0.47111\u001b[0m\u001b[0m | time: 3.225s\n",
      "| SGD | epoch: 050 | loss: 0.47111 - acc: 0.8716 | val_loss: 0.45107 - val_acc: 0.8847 -- iter: 49500/49500\n",
      "--\n",
      "Test accuracy:  0.8897\n"
     ]
    }
   ],
   "source": [
    "#Define graph\n",
    "tf.reset_default_graph()\n",
    "    \n",
    "# Inputs\n",
    "net = tflearn.input_data([None, trainX.shape[1]])\n",
    "\n",
    "# Hidden layer\n",
    "net = tflearn.fully_connected(net, 256, activation='ReLU')\n",
    "\n",
    "# Output\n",
    "net = tflearn.fully_connected(net, 10, activation='softmax')\n",
    "\n",
    "net = tflearn.regression(net, optimizer='sgd', learning_rate=0.001, loss='categorical_crossentropy')\n",
    "\n",
    "model = tflearn.DNN(net)\n",
    "\n",
    "model.fit(trainX, trainY, validation_set=0.1, show_metric=True, batch_size=128, n_epoch=50)\n",
    "\n",
    "# Find the indices of the most confident prediction for each item. That tells us the predicted digit for that sample.\n",
    "predictions = np.array(model.predict(testX)).argmax(axis=1)\n",
    "\n",
    "# Calculate the accuracy, which is the percentage of times the predicated labels matched the actual labels\n",
    "actual = testY.argmax(axis=1)\n",
    "test_accuracy = np.mean(predictions == actual, axis=0)\n",
    "\n",
    "# Print out the result\n",
    "print(\"Test accuracy: \", test_accuracy)"
   ]
  },
  {
   "cell_type": "code",
   "execution_count": null,
   "metadata": {
    "collapsed": true
   },
   "outputs": [],
   "source": []
  }
 ],
 "metadata": {
  "kernelspec": {
   "display_name": "Python [conda env:aiclub]",
   "language": "python",
   "name": "conda-env-aiclub-py"
  },
  "language_info": {
   "codemirror_mode": {
    "name": "ipython",
    "version": 3
   },
   "file_extension": ".py",
   "mimetype": "text/x-python",
   "name": "python",
   "nbconvert_exporter": "python",
   "pygments_lexer": "ipython3",
   "version": "3.6.2"
  }
 },
 "nbformat": 4,
 "nbformat_minor": 2
}
