{
 "cells": [
  {
   "cell_type": "code",
   "execution_count": 7,
   "metadata": {},
   "outputs": [],
   "source": [
    "import tensorflow as tf\n",
    "import numpy as np\n",
    "import pandas as pd\n",
    "import tflearn"
   ]
  },
  {
   "cell_type": "code",
   "execution_count": 8,
   "metadata": {
    "collapsed": true
   },
   "outputs": [],
   "source": [
    "raw_train = pd.read_csv('../MNIST/input/train.csv')\n",
    "raw_test = pd.read_csv('../MNIST/input/test.csv')"
   ]
  },
  {
   "cell_type": "code",
   "execution_count": 9,
   "metadata": {
    "collapsed": true
   },
   "outputs": [],
   "source": [
    "def to_one_hot(label):\n",
    "    base = np.zeros([label.shape[0],10])\n",
    "    base[np.arange(label.shape[0]),label[:,0].tolist()] = 1\n",
    "    return base"
   ]
  },
  {
   "cell_type": "code",
   "execution_count": 10,
   "metadata": {
    "collapsed": true
   },
   "outputs": [],
   "source": [
    "def next_batch(num, train, label):\n",
    "    idx = np.arange(0 , len(train))\n",
    "    np.random.shuffle(idx)\n",
    "    idx=idx[:num]\n",
    "    data_shuffle = train[idx,:]\n",
    "    label_shuffle = label[idx,:]\n",
    "    return data_shuffle, label_shuffle"
   ]
  },
  {
   "cell_type": "code",
   "execution_count": 11,
   "metadata": {},
   "outputs": [
    {
     "name": "stdout",
     "output_type": "stream",
     "text": [
      "(42000, 784)\n",
      "(42000, 10)\n",
      "(28000, 784)\n"
     ]
    }
   ],
   "source": [
    "train_255 = raw_train.iloc[:,1:].values\n",
    "raw_label = raw_train.iloc[:,0].values.reshape([train_255.shape[0],1])\n",
    "label = to_one_hot(raw_label)\n",
    "train = train_255.astype(np.float)/255.0\n",
    "print(train.shape)\n",
    "print(label.shape)\n",
    "test_255 = raw_test.values\n",
    "test = test_255.astype(np.float)/255.0\n",
    "print(test.shape)"
   ]
  },
  {
   "cell_type": "code",
   "execution_count": 17,
   "metadata": {},
   "outputs": [
    {
     "name": "stdout",
     "output_type": "stream",
     "text": [
      "Training Step: 37799  | total loss: \u001b[1m\u001b[32m0.07537\u001b[0m\u001b[0m | time: 1.555s\n",
      "| SGD | epoch: 100 | loss: 0.07537 - acc: 0.9817 -- iter: 37700/37800\n",
      "Training Step: 37800  | total loss: \u001b[1m\u001b[32m0.07810\u001b[0m\u001b[0m | time: 2.582s\n",
      "| SGD | epoch: 100 | loss: 0.07810 - acc: 0.9825 | val_loss: 0.14832 - val_acc: 0.9569 -- iter: 37800/37800\n",
      "--\n"
     ]
    }
   ],
   "source": [
    "learning_rate = 0.01\n",
    "training_epochs = 100\n",
    "batch_size = 100\n",
    "\n",
    "tf.reset_default_graph()\n",
    "\n",
    "# Inputs\n",
    "net = tflearn.input_data([None, 784])\n",
    "\n",
    "# Hidden layer(s)\n",
    "net = tflearn.fully_connected(net, 128, activation='ReLU')\n",
    "net = tflearn.fully_connected(net, 32, activation='ReLU')\n",
    "\n",
    "# Output layer and training model\n",
    "net = tflearn.fully_connected(net, 10, activation='softmax')\n",
    "net = tflearn.regression(net, optimizer='sgd', learning_rate=learning_rate, loss='categorical_crossentropy')\n",
    "\n",
    "model = tflearn.DNN(net)\n",
    "\n",
    "# Training\n",
    "model.fit(train, label, validation_set=0.1, show_metric=True, batch_size=batch_size, n_epoch=training_epochs)"
   ]
  },
  {
   "cell_type": "code",
   "execution_count": 24,
   "metadata": {},
   "outputs": [
    {
     "data": {
      "text/plain": [
       "array([2, 0, 9, ..., 3, 9, 2])"
      ]
     },
     "execution_count": 24,
     "metadata": {},
     "output_type": "execute_result"
    }
   ],
   "source": [
    "result = np.array(model.predict(test)).argmax(axis=1)\n",
    "result"
   ]
  },
  {
   "cell_type": "code",
   "execution_count": 25,
   "metadata": {
    "collapsed": true
   },
   "outputs": [],
   "source": [
    "dtype = [('ImageId','int32'), ('Label','int32')]\n",
    "values = np.zeros(test.shape[0], dtype=dtype)\n",
    "index = np.arange(1,test.shape[0]+1)\n",
    "df = pd.DataFrame(values, index=index)\n",
    "df['ImageId'] = index\n",
    "df['Label'] = result\n",
    "df.to_csv('./input/submission_dnn.csv', sep=',', encoding='utf-8', index=False)"
   ]
  }
 ],
 "metadata": {
  "kernelspec": {
   "display_name": "Python [conda env:aiclub]",
   "language": "python",
   "name": "conda-env-aiclub-py"
  },
  "language_info": {
   "codemirror_mode": {
    "name": "ipython",
    "version": 3
   },
   "file_extension": ".py",
   "mimetype": "text/x-python",
   "name": "python",
   "nbconvert_exporter": "python",
   "pygments_lexer": "ipython3",
   "version": "3.6.2"
  }
 },
 "nbformat": 4,
 "nbformat_minor": 2
}
